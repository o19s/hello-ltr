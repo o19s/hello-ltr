{
 "cells": [
  {
   "cell_type": "code",
   "execution_count": null,
   "metadata": {},
   "outputs": [],
   "source": [
    "import pandas as pd\n",
    "import operator"
   ]
  },
  {
   "cell_type": "code",
   "execution_count": null,
   "metadata": {},
   "outputs": [],
   "source": [
    "infile = 'data/quepid_movies_judgements_max.csv'\n",
    "outfile = 'data/ltr_movies_judgements_max.txt'"
   ]
  },
  {
   "cell_type": "code",
   "execution_count": null,
   "metadata": {},
   "outputs": [],
   "source": [
    "df = pd.read_csv(infile)"
   ]
  },
  {
   "cell_type": "code",
   "execution_count": null,
   "metadata": {},
   "outputs": [],
   "source": [
    "df.rename(columns={'Query Text':'query','Doc ID':'docid','Rating':'rating'}, inplace=True)\n",
    "qdf = df[['query','docid','rating']]"
   ]
  },
  {
   "cell_type": "code",
   "execution_count": null,
   "metadata": {},
   "outputs": [],
   "source": [
    "header = []\n",
    "headertext = \"\"\n",
    "queries = qdf['query'].unique()\n",
    "for i,query in enumerate(queries):\n",
    "    hrow = \"# qid:\" + str(i+1) + \": \" + query + \"*1\"\n",
    "    header.append(hrow)\n",
    "headertext = '\\n'.join(header)\n",
    "print(headertext[0:1000]+'\\n...')"
   ]
  },
  {
   "cell_type": "code",
   "execution_count": null,
   "metadata": {},
   "outputs": [],
   "source": [
    "judgements = []\n",
    "judgementstext = \"\"\n",
    "for idx,row in qdf.iterrows():\n",
    "    rating = str(row['rating'])\n",
    "    qid = str(operator.indexOf(queries, row['query'])+1)\n",
    "    docid = str(row['docid'])\n",
    "    query = row['query']\n",
    "    jrow = str(rating) + \"\\tqid:\" + qid + \"\\t# \" + docid + \"\\t\" + query\n",
    "    judgements.append(jrow)\n",
    "judgementstext = '\\n'.join(judgements)\n",
    "print(judgementstext[0:1000]+'\\n...')"
   ]
  },
  {
   "cell_type": "code",
   "execution_count": null,
   "metadata": {},
   "outputs": [],
   "source": [
    "output = headertext + '\\n\\n' + judgementstext\n",
    "with open(outfile, 'w') as file:\n",
    "    file.write(output)"
   ]
  },
  {
   "cell_type": "code",
   "execution_count": null,
   "metadata": {},
   "outputs": [],
   "source": []
  }
 ],
 "metadata": {
  "kernelspec": {
   "display_name": "Python 3",
   "language": "python",
   "name": "python3"
  },
  "language_info": {
   "codemirror_mode": {
    "name": "ipython",
    "version": 3
   },
   "file_extension": ".py",
   "mimetype": "text/x-python",
   "name": "python",
   "nbconvert_exporter": "python",
   "pygments_lexer": "ipython3",
   "version": "3.7.1"
  }
 },
 "nbformat": 4,
 "nbformat_minor": 2
}
