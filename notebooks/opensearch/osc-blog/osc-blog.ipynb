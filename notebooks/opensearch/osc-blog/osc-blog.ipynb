{
 "cells": [
  {
   "attachments": {},
   "cell_type": "markdown",
   "metadata": {},
   "source": [
    "Download corpus, judgments, etc"
   ]
  },
  {
   "cell_type": "code",
   "execution_count": null,
   "metadata": {},
   "outputs": [],
   "source": [
    "from ltr import download\n",
    "corpus='http://es-learn-to-rank.labs.o19s.com/blog.jsonl'\n",
    "judgments='http://es-learn-to-rank.labs.o19s.com/osc_judgments.txt'\n",
    "\n",
    "download([corpus, judgments], dest='data/');"
   ]
  },
  {
   "attachments": {},
   "cell_type": "markdown",
   "metadata": {},
   "source": [
    "Parse out OSC's blog into `articles`"
   ]
  },
  {
   "cell_type": "code",
   "execution_count": null,
   "metadata": {},
   "outputs": [],
   "source": [
    "import json\n",
    "\n",
    "articles = []\n",
    "\n",
    "with open('data/blog.jsonl') as f:\n",
    "    for line in f:\n",
    "        blog = json.loads(line)\n",
    "        articles.append(blog)\n",
    "\n",
    "articles[-7]"
   ]
  },
  {
   "attachments": {},
   "cell_type": "markdown",
   "metadata": {},
   "source": [
    "Instantiate an OpenSearch client."
   ]
  },
  {
   "cell_type": "code",
   "execution_count": null,
   "metadata": {},
   "outputs": [],
   "source": [
    "from ltr.client import OpenSearchClient\n",
    "client=OpenSearchClient()"
   ]
  },
  {
   "attachments": {},
   "cell_type": "markdown",
   "metadata": {},
   "source": [
    "Reindex from the corpus into the `blog` index. The JSON file at `docker/elasticsearch/<index_name>_settings.json` is loaded to configure the index."
   ]
  },
  {
   "cell_type": "code",
   "execution_count": null,
   "metadata": {},
   "outputs": [],
   "source": [
    "from ltr.index import rebuild\n",
    "rebuild(client, index='blog', doc_src=articles)"
   ]
  },
  {
   "attachments": {},
   "cell_type": "markdown",
   "metadata": {},
   "source": [
    "A set of features that we've come up with that seems to work well for OSC's blog. Note here, these are Elasticsearch specific"
   ]
  },
  {
   "cell_type": "code",
   "execution_count": null,
   "metadata": {},
   "outputs": [],
   "source": [
    "client.reset_ltr(index='blog')\n",
    "\n",
    "config = {\n",
    "    \"featureset\": {\n",
    "        \"features\": [\n",
    "            {\n",
    "                \"name\": \"title_term_match\",\n",
    "                \"params\": [\"keywords\"],\n",
    "                \"template\": {\n",
    "                    \"constant_score\": {\n",
    "                       \"filter\": {\n",
    "                            \"match\": {\n",
    "                                \"title\": \"{{keywords}}\"\n",
    "                            }\n",
    "                       },\n",
    "                       \"boost\": 1.0\n",
    "                    }\n",
    "                }\n",
    "            },\n",
    "           {\n",
    "                \"name\": \"content_bm25\",\n",
    "                \"params\": [\"keywords\"],\n",
    "                \"template\": {\n",
    "                    \"match\": {\n",
    "                       \"content\": {\n",
    "                          \"query\": \"{{keywords}}\"\n",
    "                        }\n",
    "                    }\n",
    "                }\n",
    "            },\n",
    "            {\n",
    "                \"name\": \"title_phrase_bm25\",\n",
    "                \"params\": [\"keywords\"],\n",
    "                \"template\": {\n",
    "                    \"match_phrase\": {\n",
    "                       \"title\": \"{{ keywords }}\"\n",
    "                    }\n",
    "                }\n",
    "            },\n",
    "            {\n",
    "                \"name\": \"title_phrase_match\",\n",
    "                \"params\": [\"keywords\"],\n",
    "                \"template\": {\n",
    "                    \"constant_score\": {\n",
    "                       \"filter\": {\n",
    "                            \"match_phrase\": {\n",
    "                                \"title\": \"{{keywords}}\"\n",
    "                            }\n",
    "                       },\n",
    "                       \"boost\": 1.0\n",
    "                    }\n",
    "                }\n",
    "            },\n",
    "            \n",
    "            {\n",
    "                \"name\": \"stepwise_post_date\",\n",
    "                \"params\": [\"keywords\"],\n",
    "                \"template\": {\n",
    "                  \"function_score\": {\n",
    "                     \"query\": {\n",
    "                        \"match_all\": {\n",
    "                        }\n",
    "                     },\n",
    "                     \"boost_mode\": \"replace\",\n",
    "                     \"score_mode\": \"sum\",\n",
    "                     \"functions\": [\n",
    "                        {\n",
    "                            \"filter\": {\n",
    "                                \"range\": {\n",
    "                                    \"post_date\": {\n",
    "                                        \"gte\": \"now-180d\"\n",
    "                                    }\n",
    "                                }\n",
    "                            },\n",
    "                            \"weight\": \"100\"               \n",
    "                        },\n",
    "                        {\n",
    "                            \"filter\": {\n",
    "                                \"range\": {\n",
    "                                    \"post_date\": {\n",
    "                                        \"gte\": \"now-360d\"\n",
    "                                    }\n",
    "                                }\n",
    "                            },\n",
    "                            \"weight\": \"100\"               \n",
    "                        },\n",
    "                          {\n",
    "                            \"filter\": {\n",
    "                                \"range\": {\n",
    "                                    \"post_date\": {\n",
    "                                        \"gte\": \"now-90d\"\n",
    "                                    }\n",
    "                                }\n",
    "                            },\n",
    "                            \"weight\": \"100\"               \n",
    "                        }\n",
    "\n",
    "                     ]\n",
    "                  }\n",
    "                }\n",
    "            },\n",
    "            {\n",
    "                \"name\": \"category_phrase_bm25\",\n",
    "                \"params\": [\"keywords\"],\n",
    "                \"template\": {\n",
    "                    \"match_phrase\": {\n",
    "                       \"categories\": \"{{ keywords }}\"\n",
    "                    }\n",
    "                }\n",
    "            },\n",
    "            {\n",
    "                \"name\": \"excerpt_bm25\",\n",
    "                \"params\": [\"keywords\"],\n",
    "                \"template\": {\n",
    "                    \"match\": {\n",
    "                       \"excerpt\": \"{{ keywords }}\"\n",
    "                    }\n",
    "                }\n",
    "            },\n",
    "            {\n",
    "                \"name\": \"excerpt_phrase_bm25\",\n",
    "                \"params\": [\"keywords\"],\n",
    "                \"template\": {\n",
    "                    \"match_phrase\": {\n",
    "                       \"excerpt\": \"{{ keywords }}\"\n",
    "                    }\n",
    "                }\n",
    "            },\n",
    "        ]\n",
    "    },\n",
    "    \"validation\": {\n",
    "      \"index\": \"blog\",\n",
    "      \"params\": {\n",
    "          \"keywords\": \"rambo\"\n",
    "      }\n",
    "\n",
    "   }\n",
    "}\n",
    "\n",
    "client.create_featureset(index='blog', name='test', ftr_config=config)"
   ]
  },
  {
   "attachments": {},
   "cell_type": "markdown",
   "metadata": {},
   "source": [
    "With features loaded, transform the judgment list (`query,doc,label`) into a full training set with `query,doc,label,ftr1,ftr2,...` to prepare for training"
   ]
  },
  {
   "cell_type": "code",
   "execution_count": null,
   "metadata": {},
   "outputs": [],
   "source": [
    "from ltr.judgments import judgments_open\n",
    "from ltr.log import FeatureLogger\n",
    "from itertools import groupby\n",
    "\n",
    "ftr_logger=FeatureLogger(client, index='blog', feature_set='test')\n",
    "with judgments_open('data/osc_judgments.txt') as judgment_list:\n",
    "    for qid, query_judgments in groupby(judgment_list, key=lambda j: j.qid):\n",
    "        ftr_logger.log_for_qid(judgments=query_judgments, \n",
    "                               qid=qid,\n",
    "                               keywords=judgment_list.keywords(qid))"
   ]
  },
  {
   "attachments": {},
   "cell_type": "markdown",
   "metadata": {},
   "source": [
    "# Judgement List Definition\n",
    "\n",
    "from https://opensourceconnections.com/blog/2019/08/13/hello-ltr-sandbox-for-learning-to-rank/\n",
    "The judgment list is expressed as a ‘stub’ RankSVM file format. This file format, common to learning to rank tasks tracks the grade in the first column. In our example, we use the standard of a 0 meaning most irrelevant and a 4 meaning perfectly relevant for the query. The second column is a unique identifier for the query, prefixed with qid. A comment with the document identifier follows."
   ]
  },
  {
   "cell_type": "code",
   "execution_count": null,
   "metadata": {},
   "outputs": [],
   "source": [
    "with judgments_open('data/osc_judgments.txt') as print_judgement_list:\n",
    "    for line in print_judgement_list:\n",
    "        print(line)\n",
    "                "
   ]
  },
  {
   "attachments": {},
   "cell_type": "markdown",
   "metadata": {},
   "source": [
    "Train using RankyMcRankFace with the training set, optimizing search for a specific metric (here `NDCG@10`). Note `ltr.train` has additional capabilities for performing k-fold cross validaiton to ensure the model isn't overfit to training data.\n",
    "\n",
    "The model is stored in the search engine named `test` which can be referred to later for searching."
   ]
  },
  {
   "cell_type": "code",
   "execution_count": null,
   "metadata": {},
   "outputs": [],
   "source": [
    "from ltr.ranklib import train\n",
    "trainLog = train(client,\n",
    "                 training_set=ftr_logger.logged,\n",
    "                 metric2t='NDCG@10',\n",
    "                 featureSet='test',\n",
    "                 index='blog',\n",
    "                 modelName='test')\n",
    "\n"
   ]
  },
  {
   "attachments": {},
   "cell_type": "markdown",
   "metadata": {},
   "source": [
    "Search! Pass some configuration in (`blog_fields`) for display purposes."
   ]
  },
  {
   "cell_type": "code",
   "execution_count": null,
   "metadata": {},
   "outputs": [],
   "source": [
    "blog_fields = {\n",
    "    'title': 'title',\n",
    "    'display_fields': ['url', 'author', 'categories', 'post_date']\n",
    "}\n",
    "\n",
    "from ltr import search\n",
    "search(client, \"haystack ml\", modelName='test', \n",
    "       index='blog', fields=blog_fields)"
   ]
  },
  {
   "cell_type": "code",
   "execution_count": null,
   "metadata": {},
   "outputs": [],
   "source": []
  }
 ],
 "metadata": {
  "kernelspec": {
   "display_name": "Python 3 (ipykernel)",
   "language": "python",
   "name": "python3"
  },
  "language_info": {
   "codemirror_mode": {
    "name": "ipython",
    "version": 3
   },
   "file_extension": ".py",
   "mimetype": "text/x-python",
   "name": "python",
   "nbconvert_exporter": "python",
   "pygments_lexer": "ipython3",
   "version": "3.10.5"
  }
 },
 "nbformat": 4,
 "nbformat_minor": 2
}
