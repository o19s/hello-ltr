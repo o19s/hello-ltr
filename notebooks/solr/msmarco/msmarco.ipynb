{
 "cells": [
  {
   "cell_type": "markdown",
   "metadata": {},
   "source": [
    "This notebook experiments with the MSMarco Dataset, nothing that exciting to see here right now. But fun to toy with.\n",
    "\n",
    "# Setup & Indexing\n",
    "\n",
    "The next several cells we setup the SolrClient (run everytime), we download the MSMarco dataset, and index it into Solr."
   ]
  },
  {
   "cell_type": "code",
   "execution_count": null,
   "metadata": {},
   "outputs": [],
   "source": [
    "from ltr.client import SolrClient\n",
    "from ltr.index import rebuild\n",
    "\n",
    "\n",
    "client=SolrClient()"
   ]
  },
  {
   "cell_type": "code",
   "execution_count": null,
   "metadata": {},
   "outputs": [],
   "source": [
    "# Download MSMarco Corpus and Queries -> data directory\n",
    "from ltr.download import download_msmarco\n",
    "download_msmarco()"
   ]
  },
  {
   "cell_type": "code",
   "execution_count": null,
   "metadata": {},
   "outputs": [],
   "source": [
    "# Index to Solr. Docs & Question fro convenience\n",
    "\n",
    "import csv\n",
    "import sys\n",
    "import gzip\n",
    "\n",
    "csv.field_size_limit(sys.maxsize)\n",
    "\n",
    "def marco_docs():\n",
    "    with gzip.open('data/msmarco-docs.tsv.gz', 'rt') as tsvfile:\n",
    "        reader = csv.reader(tsvfile, delimiter='\\t')\n",
    "        i = 0;\n",
    "        for row in reader:\n",
    "        \n",
    "                yield {\"id\": row[0],\n",
    "                       \"url\": row[1],\n",
    "                       \"title\": row[2],\n",
    "                       \"body\": row[3],\n",
    "                       \"type\": \"document\"}\n",
    "                i+=1\n",
    "                if i % 10000 == 0:\n",
    "                    print(\"Dumped (%s/%s) %s\" % (i, 3213835, row[1]))\n",
    "                    \n",
    "def marco_questions():\n",
    "    with gzip.open('data/msmarco-doctrain-queries.tsv.gz', 'rt') as tsvfile:\n",
    "        reader = csv.reader(tsvfile, delimiter='\\t')\n",
    "        i = 0;\n",
    "        for row in reader:\n",
    "            yield {\"id\": 'Q' + row[0],\n",
    "                   \"url\": '',\n",
    "                   \"title\": row[1],\n",
    "                   \"body\": row[1],\n",
    "                   \"type\": \"question\"}\n",
    "            i+=1\n",
    "            if i % 10000 == 0:\n",
    "                print(\"Dumped (q) (%s/%s) %s\" % (i, 367013, row[1]))\n",
    "                    \n",
    "\n",
    "def marco_questions_and_docs():\n",
    "    for q in marco_questions():\n",
    "        yield q\n",
    "    for d in marco_docs():\n",
    "        yield d\n",
    "        "
   ]
  },
  {
   "cell_type": "code",
   "execution_count": null,
   "metadata": {},
   "outputs": [],
   "source": [
    "from ltr.client import SolrClient\n",
    "from ltr.index import rebuild\n",
    "\n",
    "\n",
    "client=SolrClient()\n",
    "rebuild(client, index='msmarco', doc_type='passage', doc_src=marco_questions_and_docs())"
   ]
  },
  {
   "cell_type": "markdown",
   "metadata": {},
   "source": [
    "# Some experiments"
   ]
  },
  {
   "cell_type": "code",
   "execution_count": null,
   "metadata": {},
   "outputs": [],
   "source": [
    "# Parse out all the msmarco qrels\n",
    "\n",
    "from ltr.helpers.msmarco.evaluate import QRel\n",
    "\n",
    "qrels = {}\n",
    "\n",
    "for qrel in QRel.read_qrels():\n",
    "    qrels[qrel.qid] = qrel"
   ]
  },
  {
   "cell_type": "code",
   "execution_count": null,
   "metadata": {},
   "outputs": [],
   "source": [
    "import random\n",
    "\n",
    "sample_qids = [k for k in qrels.keys()]\n",
    "random.shuffle(sample_qids)\n",
    "sample_qids = sample_qids[:100]\n",
    "sample_qids"
   ]
  },
  {
   "cell_type": "code",
   "execution_count": null,
   "metadata": {},
   "outputs": [],
   "source": [
    "from ltr.helpers.solr_escape import esc_kw\n",
    "\n",
    "\n",
    "def eval_one(client, qrel, params, at=50):\n",
    "    \"\"\" Eval a single Solr query param for MRR\"\"\"\n",
    "    kw = esc_kw(qrel.keywords)\n",
    "    \n",
    "    import copy\n",
    "    params = copy.deepcopy(params)\n",
    "\n",
    "    params['q'] = kw\n",
    "    params['rows'] = at\n",
    "    params['fl'] = 'id'\n",
    "    if 'fq' in params:\n",
    "        params['fq'] = [params['fq'], 'type:document']\n",
    "    else:\n",
    "        params['fq'] = \"type:document\"\n",
    "    \n",
    "    hits = client.query(index='msmarco', query=params)\n",
    "    \n",
    "    ranking = [hit['id'] for hit in hits]\n",
    "    rr = qrel.eval_rr(ranking)\n",
    "    return rr\n",
    "\n",
    "def eval_many(client, qrels, sample_qids, params):\n",
    "    \"\"\" Execute many Solr searches, return MRR\n",
    "        (this should show distribution...)\"\"\"\n",
    "    sum_rr = 0.0\n",
    "    num_evald = 0\n",
    "    \n",
    "    HIST_SLOTS = 100\n",
    "    \n",
    "    all_rrs = []\n",
    "\n",
    "    print(\"Running %s queries\" % len(sample_qids))\n",
    "\n",
    "    for qid in sample_qids:\n",
    "        qrel = qrels[qid]        \n",
    "        rr = eval_one(client, qrel, params)\n",
    "        \n",
    "        all_rrs.append(rr)\n",
    "  \n",
    "        sum_rr += rr\n",
    "        num_evald += 1\n",
    "        print(\"%s, last rr: %s, mrr: %s\" % (num_evald, rr, sum_rr / num_evald))      \n",
    "    return all_rrs"
   ]
  },
  {
   "cell_type": "code",
   "execution_count": null,
   "metadata": {},
   "outputs": [],
   "source": [
    "all_rrs_title = eval_many(client, qrels, sample_qids, {\"qf\": \"title\", \"defType\": \"edismax\"})\n",
    "all_rrs_body = eval_many(client, qrels, sample_qids, {\"qf\": \"body\", \"defType\": \"edismax\"})\n",
    "all_rrs_all = eval_many(client, qrels, sample_qids, {\"qf\": \"title body url\", \"defType\": \"edismax\"})\n",
    "all_rrs_all_tie = eval_many(client, qrels, sample_qids, {\"qf\": \"title body url\", \"tie\": 1.0, \"defType\": \"edismax\"})\n",
    "all_rrs_all_pf2 = eval_many(client, qrels, sample_qids, {\"qf\": \"body\", \"pf2\": \"body\", \"tie\": 1.0,  \"defType\": \"edismax\"})\n",
    "\n"
   ]
  },
  {
   "cell_type": "code",
   "execution_count": null,
   "metadata": {},
   "outputs": [],
   "source": [
    "# Matplotlib and seaborn for plotting\n",
    "import matplotlib.pyplot as plt\n",
    "import matplotlib\n",
    "import numpy as np\n",
    "\n",
    "%matplotlib inline\n",
    "\n",
    "matplotlib.rcParams['font.size'] = 18\n",
    "matplotlib.rcParams['figure.dpi'] = 200\n",
    "\n",
    "from IPython.core.pylabtools import figsize\n",
    "figsize(15, 5)\n",
    "\n",
    "\n",
    "def draw_rr_dist(all_rrs, experiment_name):\n",
    "    bins = [0.0, 0.05,0.1,0.15,0.2,0.25,\n",
    "                 0.3,0.35,0.4,0.45,0.5,\n",
    "                 0.55,0.6,0.65,0.7,0.75,\n",
    "                 0.8,0.85,0.9,0.95,1.0]\n",
    "    \n",
    "    all_rrs = np.array(all_rrs)\n",
    "\n",
    "\n",
    "    # Make the histogram using matplotlib, bins must be integet\n",
    "    plt.hist(all_rrs, color = 'blue', edgecolor = 'black',\n",
    "             bins = bins)\n",
    "\n",
    "    # Add labels\n",
    "    plt.title('RR by Query )' + experiment_name)\n",
    "    plt.xlabel('RR'); plt.ylabel('Num Qs');\n",
    "    plt.axvline(all_rrs.mean(), color='k', linestyle='dashed', linewidth=1)\n",
    "    "
   ]
  },
  {
   "cell_type": "code",
   "execution_count": null,
   "metadata": {},
   "outputs": [],
   "source": []
  },
  {
   "cell_type": "code",
   "execution_count": null,
   "metadata": {},
   "outputs": [],
   "source": [
    "draw_rr_dist(all_rrs_title, \"Title Search\")"
   ]
  },
  {
   "cell_type": "code",
   "execution_count": null,
   "metadata": {},
   "outputs": [],
   "source": [
    "draw_rr_dist(all_rrs_body, \"Body Search\")"
   ]
  },
  {
   "cell_type": "code",
   "execution_count": null,
   "metadata": {},
   "outputs": [],
   "source": [
    "draw_rr_dist(all_rrs_all, \"Title Body Url Dismax Search\")"
   ]
  },
  {
   "cell_type": "code",
   "execution_count": null,
   "metadata": {},
   "outputs": [],
   "source": [
    "draw_rr_dist(all_rrs_all_tie, \"Title Body Url Dismax Search, tie\")"
   ]
  },
  {
   "cell_type": "code",
   "execution_count": null,
   "metadata": {},
   "outputs": [],
   "source": [
    "draw_rr_dist(all_rrs_all_pf2, \"PF2 Search\")\n",
    "\n"
   ]
  },
  {
   "cell_type": "code",
   "execution_count": null,
   "metadata": {},
   "outputs": [],
   "source": []
  },
  {
   "cell_type": "code",
   "execution_count": null,
   "metadata": {},
   "outputs": [],
   "source": []
  }
 ],
 "metadata": {
  "kernelspec": {
   "display_name": "Python 3",
   "language": "python",
   "name": "python3"
  },
  "language_info": {
   "codemirror_mode": {
    "name": "ipython",
    "version": 3
   },
   "file_extension": ".py",
   "mimetype": "text/x-python",
   "name": "python",
   "nbconvert_exporter": "python",
   "pygments_lexer": "ipython3",
   "version": "3.6.1"
  }
 },
 "nbformat": 4,
 "nbformat_minor": 2
}
