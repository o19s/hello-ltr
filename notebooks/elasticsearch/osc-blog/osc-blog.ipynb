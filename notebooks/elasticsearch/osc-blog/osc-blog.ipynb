{
 "cells": [
  {
   "cell_type": "markdown",
   "source": [
    "Download corpus, judgments, etc"
   ],
   "metadata": {}
  },
  {
   "cell_type": "code",
   "execution_count": null,
   "source": [
    "from ltr import download\r\n",
    "corpus='http://es-learn-to-rank.labs.o19s.com/blog.jsonl'\r\n",
    "judgments='http://es-learn-to-rank.labs.o19s.com/osc_judgments.txt'\r\n",
    "\r\n",
    "download([corpus, judgments], dest='data/');"
   ],
   "outputs": [],
   "metadata": {}
  },
  {
   "cell_type": "markdown",
   "source": [
    "Parse out OSC's blog into `articles`"
   ],
   "metadata": {}
  },
  {
   "cell_type": "code",
   "execution_count": null,
   "source": [
    "import json\r\n",
    "\r\n",
    "articles = []\r\n",
    "\r\n",
    "with open('data/blog.jsonl') as f:\r\n",
    "    for line in f:\r\n",
    "        blog = json.loads(line)\r\n",
    "        articles.append(blog)\r\n",
    "\r\n",
    "articles[-7]"
   ],
   "outputs": [],
   "metadata": {}
  },
  {
   "cell_type": "markdown",
   "source": [
    "Instantiate an Elasticsearch client (as opposed to a `SolrClient`). Hello LTR can work with either "
   ],
   "metadata": {}
  },
  {
   "cell_type": "code",
   "execution_count": null,
   "source": [
    "from ltr.client import ElasticClient\r\n",
    "client=ElasticClient()"
   ],
   "outputs": [],
   "metadata": {}
  },
  {
   "cell_type": "markdown",
   "source": [
    "Reindex from the corpus into the `blog` index. The JSON file at `docker/elasticsearch/<index_name>_settings.json` is loaded to configure the index."
   ],
   "metadata": {}
  },
  {
   "cell_type": "code",
   "execution_count": null,
   "source": [
    "from ltr.index import rebuild\r\n",
    "rebuild(client, index='blog', doc_src=articles)"
   ],
   "outputs": [],
   "metadata": {}
  },
  {
   "cell_type": "markdown",
   "source": [
    "A set of features that we've come up with that seems to work well for OSC's blog. Note here, these are Elasticsearch specific"
   ],
   "metadata": {}
  },
  {
   "cell_type": "code",
   "execution_count": null,
   "source": [
    "client.reset_ltr(index='blog')\r\n",
    "\r\n",
    "config = {\r\n",
    "    \"featureset\": {\r\n",
    "        \"features\": [\r\n",
    "            {\r\n",
    "                \"name\": \"title_term_match\",\r\n",
    "                \"params\": [\"keywords\"],\r\n",
    "                \"template\": {\r\n",
    "                    \"constant_score\": {\r\n",
    "                       \"filter\": {\r\n",
    "                            \"match\": {\r\n",
    "                                \"title\": \"{{keywords}}\"\r\n",
    "                            }\r\n",
    "                       },\r\n",
    "                       \"boost\": 1.0\r\n",
    "                    }\r\n",
    "                }\r\n",
    "            },\r\n",
    "           {\r\n",
    "                \"name\": \"content_bm25\",\r\n",
    "                \"params\": [\"keywords\"],\r\n",
    "                \"template\": {\r\n",
    "                    \"match\": {\r\n",
    "                       \"content\": {\r\n",
    "                          \"query\": \"{{keywords}}\"\r\n",
    "                        }\r\n",
    "                    }\r\n",
    "                }\r\n",
    "            },\r\n",
    "            {\r\n",
    "                \"name\": \"title_phrase_bm25\",\r\n",
    "                \"params\": [\"keywords\"],\r\n",
    "                \"template\": {\r\n",
    "                    \"match_phrase\": {\r\n",
    "                       \"title\": \"{{ keywords }}\"\r\n",
    "                    }\r\n",
    "                }\r\n",
    "            },\r\n",
    "            {\r\n",
    "                \"name\": \"title_phrase_match\",\r\n",
    "                \"params\": [\"keywords\"],\r\n",
    "                \"template\": {\r\n",
    "                    \"constant_score\": {\r\n",
    "                       \"filter\": {\r\n",
    "                            \"match_phrase\": {\r\n",
    "                                \"title\": \"{{keywords}}\"\r\n",
    "                            }\r\n",
    "                       },\r\n",
    "                       \"boost\": 1.0\r\n",
    "                    }\r\n",
    "                }\r\n",
    "            },\r\n",
    "            \r\n",
    "            {\r\n",
    "                \"name\": \"stepwise_post_date\",\r\n",
    "                \"params\": [\"keywords\"],\r\n",
    "                \"template\": {\r\n",
    "                  \"function_score\": {\r\n",
    "                     \"query\": {\r\n",
    "                        \"match_all\": {\r\n",
    "                        }\r\n",
    "                     },\r\n",
    "                     \"boost_mode\": \"replace\",\r\n",
    "                     \"score_mode\": \"sum\",\r\n",
    "                     \"functions\": [\r\n",
    "                        {\r\n",
    "                            \"filter\": {\r\n",
    "                                \"range\": {\r\n",
    "                                    \"post_date\": {\r\n",
    "                                        \"gte\": \"now-180d\"\r\n",
    "                                    }\r\n",
    "                                }\r\n",
    "                            },\r\n",
    "                            \"weight\": \"100\"               \r\n",
    "                        },\r\n",
    "                        {\r\n",
    "                            \"filter\": {\r\n",
    "                                \"range\": {\r\n",
    "                                    \"post_date\": {\r\n",
    "                                        \"gte\": \"now-360d\"\r\n",
    "                                    }\r\n",
    "                                }\r\n",
    "                            },\r\n",
    "                            \"weight\": \"100\"               \r\n",
    "                        },\r\n",
    "                          {\r\n",
    "                            \"filter\": {\r\n",
    "                                \"range\": {\r\n",
    "                                    \"post_date\": {\r\n",
    "                                        \"gte\": \"now-90d\"\r\n",
    "                                    }\r\n",
    "                                }\r\n",
    "                            },\r\n",
    "                            \"weight\": \"100\"               \r\n",
    "                        }\r\n",
    "\r\n",
    "                     ]\r\n",
    "                  }\r\n",
    "                }\r\n",
    "            },\r\n",
    "            {\r\n",
    "                \"name\": \"category_phrase_bm25\",\r\n",
    "                \"params\": [\"keywords\"],\r\n",
    "                \"template\": {\r\n",
    "                    \"match_phrase\": {\r\n",
    "                       \"categories\": \"{{ keywords }}\"\r\n",
    "                    }\r\n",
    "                }\r\n",
    "            },\r\n",
    "            {\r\n",
    "                \"name\": \"excerpt_bm25\",\r\n",
    "                \"params\": [\"keywords\"],\r\n",
    "                \"template\": {\r\n",
    "                    \"match\": {\r\n",
    "                       \"excerpt\": \"{{ keywords }}\"\r\n",
    "                    }\r\n",
    "                }\r\n",
    "            },\r\n",
    "            {\r\n",
    "                \"name\": \"excerpt_phrase_bm25\",\r\n",
    "                \"params\": [\"keywords\"],\r\n",
    "                \"template\": {\r\n",
    "                    \"match_phrase\": {\r\n",
    "                       \"excerpt\": \"{{ keywords }}\"\r\n",
    "                    }\r\n",
    "                }\r\n",
    "            },\r\n",
    "        ]\r\n",
    "    },\r\n",
    "    \"validation\": {\r\n",
    "      \"index\": \"blog\",\r\n",
    "      \"params\": {\r\n",
    "          \"keywords\": \"rambo\"\r\n",
    "      }\r\n",
    "\r\n",
    "   }\r\n",
    "}\r\n",
    "\r\n",
    "client.create_featureset(index='blog', name='test', ftr_config=config)"
   ],
   "outputs": [],
   "metadata": {}
  },
  {
   "cell_type": "markdown",
   "source": [
    "With features loaded, transform the judgment list (`query,doc,label`) into a full training set with `query,doc,label,ftr1,ftr2,...` to prepare for training"
   ],
   "metadata": {}
  },
  {
   "cell_type": "code",
   "execution_count": null,
   "source": [
    "from ltr.judgments import judgments_open\n",
    "from ltr.log import FeatureLogger\n",
    "from itertools import groupby\n",
    "\n",
    "ftr_logger=FeatureLogger(client, index='blog', feature_set='test')\n",
    "with judgments_open('data/osc_judgments.txt') as judgment_list:\n",
    "    for qid, query_judgments in groupby(judgment_list, key=lambda j: j.qid):\n",
    "        ftr_logger.log_for_qid(judgments=query_judgments, \n",
    "                               qid=qid,\n",
    "                               keywords=judgment_list.keywords(qid))"
   ],
   "outputs": [],
   "metadata": {}
  },
  {
   "cell_type": "markdown",
   "source": [
    "Train using RankyMcRankFace with the training set, optimizing search for a specific metric (here `NDCG@10`). Note `ltr.train` has additional capabilities for performing k-fold cross validaiton to ensure the model isn't overfit to training data.\n",
    "\n",
    "The model is stored in the search engine named `test` which can be referred to later for searching."
   ],
   "metadata": {}
  },
  {
   "cell_type": "code",
   "execution_count": null,
   "source": [
    "from ltr.ranklib import train\n",
    "trainLog = train(client,\n",
    "                 training_set=ftr_logger.logged,\n",
    "                 metric2t='NDCG@10',\n",
    "                 featureSet='test',\n",
    "                 index='blog',\n",
    "                 modelName='test')\n",
    "\n"
   ],
   "outputs": [],
   "metadata": {}
  },
  {
   "cell_type": "code",
   "execution_count": null,
   "source": [
    "!java -jar /var/folders/7_/cvjz84n54vx7zv_pw3gmdqr00000gn/T/RankyMcRankFace.jar -ranker 6 -shrinkage 0.1 -metric2t NDCG@10 -tree 50 -bag 1 -leaf 10 -frate 1.0 -srate 1.0 -train /var/folders/7_/cvjz84n54vx7zv_pw3gmdqr00000gn/T/training.txt"
   ],
   "outputs": [],
   "metadata": {}
  },
  {
   "cell_type": "markdown",
   "source": [
    "Search! Pass some configuration in (`blog_fields`) for display purposes."
   ],
   "metadata": {}
  },
  {
   "cell_type": "code",
   "execution_count": null,
   "source": [
    "blog_fields = {\n",
    "    'title': 'title',\n",
    "    'display_fields': ['url', 'author', 'categories', 'post_date']\n",
    "}\n",
    "\n",
    "from ltr import search\n",
    "search(client, \"beer\", modelName='test', \n",
    "       index='blog', fields=blog_fields)"
   ],
   "outputs": [],
   "metadata": {}
  },
  {
   "cell_type": "code",
   "execution_count": null,
   "source": [],
   "outputs": [],
   "metadata": {}
  }
 ],
 "metadata": {
  "kernelspec": {
   "display_name": "Python 3",
   "language": "python",
   "name": "python3"
  },
  "language_info": {
   "codemirror_mode": {
    "name": "ipython",
    "version": 3
   },
   "file_extension": ".py",
   "mimetype": "text/x-python",
   "name": "python",
   "nbconvert_exporter": "python",
   "pygments_lexer": "ipython3",
   "version": "3.8.2"
  }
 },
 "nbformat": 4,
 "nbformat_minor": 2
}