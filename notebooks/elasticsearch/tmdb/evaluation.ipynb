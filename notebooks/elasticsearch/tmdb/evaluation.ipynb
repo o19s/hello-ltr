{
 "cells": [
  {
   "cell_type": "markdown",
   "metadata": {},
   "source": [
    "# evaluate (Elastic Edition)\n",
    "\n",
    "**Note:** This lab requires hello-ltr be run first.  You must have the TMDB data indexed and LTR models configured before proceeding."
   ]
  },
  {
   "cell_type": "markdown",
   "metadata": {},
   "source": [
    "### RRE\n",
    "This lab makes use of the rated-ranking-evaluator [project](https://github.com/SeaseLtd/rated-ranking-evaluator) to carry out evaluations on our models from the hello-ltr lab.\n",
    "\n",
    "An RRE configuration requires the following:\n",
    "\n",
    "- configuration_sets\n",
    "  - This tells RRE about the Solr/Elastic instance to use for each evaluation\n",
    "- corpora (Not required for this setup)\n",
    "  - RRE supports indexing a snapshot of data for evaluations.  For this lab we'll be using the data indexed previously.\n",
    "- ratings\n",
    "  - This folder houses json files with queries and ratings to be evaluated\n",
    "- templates\n",
    "  - The queries to be run by each configuration set\n",
    "- pom.xml\n",
    "  - Maven project configuration, here you can configure what metrics are calculated by the evalauation and format of the report.\n",
    "  \n",
    "Take a look at the rre folder in the hello-ltr to get a better idea of the project layout and structure."
   ]
  },
  {
   "cell_type": "markdown",
   "metadata": {},
   "source": [
    "### Ratings and Evaluation\n",
    "To get started with RRE we first need some ratings.  For this example we're going to use a query for \"batman\" and we're going to say that newer films are better than older ones.  We will setup 3 different configuration sets in RRE:\n",
    "\n",
    "- baseline (No LTR applied)\n",
    "- classic (Rescore with the `classic` LTR model)\n",
    "- latest (Rescore with the `latest` LTR model)\n",
    "\n",
    "The snippet below will kick off an evaluation in RRE"
   ]
  },
  {
   "cell_type": "code",
   "execution_count": null,
   "metadata": {},
   "outputs": [],
   "source": [
    "from ltr import evaluate\n",
    "evaluate('elastic')"
   ]
  },
  {
   "cell_type": "markdown",
   "metadata": {},
   "source": [
    "### Looking at the Results\n",
    "In this example we have rating data for every result in the Batman query and we're not adjusting matching so `Precision` and `Recall` are the expected value of 1.  However, since we've altered the sorting of results with LTR we can see a lift in `ERR` as our higher rated documents are coming up closer to the top of the results."
   ]
  },
  {
   "cell_type": "code",
   "execution_count": null,
   "metadata": {},
   "outputs": [],
   "source": [
    "from ltr import rre_table\n",
    "rre_table()"
   ]
  }
 ],
 "metadata": {
  "kernelspec": {
   "display_name": "Python 3",
   "language": "python",
   "name": "python3"
  },
  "language_info": {
   "codemirror_mode": {
    "name": "ipython",
    "version": 3
   },
   "file_extension": ".py",
   "mimetype": "text/x-python",
   "name": "python",
   "nbconvert_exporter": "python",
   "pygments_lexer": "ipython3",
   "version": "3.6.5"
  }
 },
 "nbformat": 4,
 "nbformat_minor": 2
}
